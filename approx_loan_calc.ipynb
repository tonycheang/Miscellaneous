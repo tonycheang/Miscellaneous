{
 "cells": [
  {
   "cell_type": "code",
   "execution_count": 3,
   "metadata": {},
   "outputs": [
    {
     "name": "stdout",
     "output_type": "stream",
     "text": [
      "\n",
      "BELOW THRES\n",
      "Income (yr):  200000  Percent Spent for Mortage:  0.42  Monthly:  7000.0\n",
      "Principal Loan:  1483801.2066221214  Error:  -40.59824512805822\n"
     ]
    }
   ],
   "source": [
    "''' Change these for specific problem '''\n",
    "\n",
    "P_start = 2000000 # Starting Guess\n",
    "R = 1.04          # Interest Rate\n",
    "Y = 30            # Payment Period\n",
    "mo_per_yr = 12\n",
    "\n",
    "yr_income = 200000           # Yearly Income\n",
    "income_for_mortgage = 0.42   # Percentage spent on mortage\n",
    "mo_pay = income_for_mortgage * yr_income / mo_per_yr\n",
    "\n",
    "''' Don't really need to change below unless not converging '''\n",
    "\n",
    "# Parameters for tuning\n",
    "trials = 1000\n",
    "change = .005\n",
    "threshold = 50\n",
    "\n",
    "for _ in range(trials):\n",
    "    P = P_start\n",
    "    \n",
    "    # Decrease the principal in monthly steps for duration of payment\n",
    "    for mo in range(0, Y * mo_per_yr):\n",
    "        P = (P - mo_pay) * (R**(1/12))\n",
    "    \n",
    "    # Minimize error on the next round\n",
    "    if (P < threshold and P > 0) or (P < 0 and P > -threshold):\n",
    "        print(\"\\nBELOW THRES\")\n",
    "        print(\"Income (yr): \", yr_income, \" Percent Spent for Mortage: \", income_for_mortgage, \" Monthly: \", mo_pay)\n",
    "        print(\"Principal Loan: \", P_start, \" Error: \", P)\n",
    "        break\n",
    "    elif P <= 0:\n",
    "        P_start *= 1+change\n",
    "    else:\n",
    "        P_start *= 1-change\n",
    "\n",
    "    # print(P, P_start, mo_pay*Y*mo_per_yr)"
   ]
  },
  {
   "cell_type": "code",
   "execution_count": null,
   "metadata": {},
   "outputs": [],
   "source": []
  },
  {
   "cell_type": "markdown",
   "metadata": {},
   "source": []
  }
 ],
 "metadata": {
  "kernelspec": {
   "display_name": "Python 3",
   "language": "python",
   "name": "python3"
  },
  "language_info": {
   "codemirror_mode": {
    "name": "ipython",
    "version": 3
   },
   "file_extension": ".py",
   "mimetype": "text/x-python",
   "name": "python",
   "nbconvert_exporter": "python",
   "pygments_lexer": "ipython3",
   "version": "3.6.7"
  }
 },
 "nbformat": 4,
 "nbformat_minor": 2
}
